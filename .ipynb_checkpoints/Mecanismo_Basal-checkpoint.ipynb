{
 "cells": [
  {
   "cell_type": "markdown",
   "metadata": {},
   "source": [
    "# El mecanismo Basal\n",
    "Para hombres:\n",
    "TMB = (10 x peso en kg) + (6,25 × altura en cm) – (5 × edad en años) + 5\n",
    "\n",
    "Para mujeres:\n",
    "TMB = (10 x peso en kg) + (6,25 × altura en cm) – (5 × edad en años) – 161"
   ]
  },
  {
   "cell_type": "code",
   "execution_count": 1,
   "metadata": {},
   "outputs": [],
   "source": [
    "def calculo_tmb():\n",
    "    peso = input('Ingrese su peso en Kg')\n",
    "    altura = input('Ingrese su altura en cm')\n",
    "    edad = input('Ingrese su edad en años')\n",
    "    sexo= input('H o M')\n",
    "    if sexo == 'H':\n",
    "        TMB = 10 * int(peso) + 6.25 * int(altura) - 5 * int(edad) + 5\n",
    "    elif sexo == 'M':\n",
    "        TMB = 10 * int(peso) + 6.25 * int(altura) - 5 * int(edad) - 161\n",
    "    else:\n",
    "        print('error')\n",
    "    return TMB"
   ]
  },
  {
   "cell_type": "code",
   "execution_count": 2,
   "metadata": {},
   "outputs": [
    {
     "name": "stdin",
     "output_type": "stream",
     "text": [
      "Ingrese su peso en Kg 65\n",
      "Ingrese su altura en cm 168\n",
      "Ingrese su edad en años 42\n",
      "H o M H\n"
     ]
    },
    {
     "data": {
      "text/plain": [
       "1495.0"
      ]
     },
     "execution_count": 2,
     "metadata": {},
     "output_type": "execute_result"
    }
   ],
   "source": [
    "calculo_tmb()"
   ]
  },
  {
   "cell_type": "code",
   "execution_count": 3,
   "metadata": {},
   "outputs": [],
   "source": [
    "def calculo_calorias(tmb):\n",
    "    actividad_fisica = input ('Cuanta actividad fisica realizas: 1-Sedentario, 2-actividad ligera, 3-actividad moderada, 4-actividad intensa, 5-actividad muy intensa')\n",
    "    if actividad_fisica == '1':\n",
    "        calorias_diarias = tmb * 1.2\n",
    "    elif actividad_fisica == '2':\n",
    "        calorias_diarias = tmb * 1.375\n",
    "    elif actividad_fisica == '3':\n",
    "        calorias_diarias = tmb * 1.55\n",
    "    elif actividad_fisica == '4':\n",
    "        calorias_diarias = tmb * 1.725\n",
    "    elif actividad_fisica == '5':\n",
    "        calorias_diarias = tmb * 1.9\n",
    "    else:\n",
    "        print('error')\n",
    "    return calorias_diarias"
   ]
  },
  {
   "cell_type": "code",
   "execution_count": 4,
   "metadata": {},
   "outputs": [
    {
     "name": "stdin",
     "output_type": "stream",
     "text": [
      "Ingrese su peso en Kg 73\n",
      "Ingrese su altura en cm 173\n",
      "Ingrese su edad en años 38\n",
      "H o M H\n",
      "Cuanta actividad fisica realizas: 1-Sedentario, 2-actividad ligera, 3-actividad moderada, 4-actividad intensa, 5-actividad muy intensa 3\n"
     ]
    },
    {
     "data": {
      "text/plain": [
       "2520.6875"
      ]
     },
     "execution_count": 4,
     "metadata": {},
     "output_type": "execute_result"
    }
   ],
   "source": [
    "calculo_calorias(calculo_tmb())"
   ]
  },
  {
   "cell_type": "code",
   "execution_count": null,
   "metadata": {},
   "outputs": [],
   "source": []
  }
 ],
 "metadata": {
  "kernelspec": {
   "display_name": "Python 3",
   "language": "python",
   "name": "python3"
  },
  "language_info": {
   "codemirror_mode": {
    "name": "ipython",
    "version": 3
   },
   "file_extension": ".py",
   "mimetype": "text/x-python",
   "name": "python",
   "nbconvert_exporter": "python",
   "pygments_lexer": "ipython3",
   "version": "3.7.1"
  }
 },
 "nbformat": 4,
 "nbformat_minor": 2
}
