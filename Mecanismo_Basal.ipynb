{
 "cells": [
  {
   "cell_type": "code",
   "execution_count": 1,
   "metadata": {},
   "outputs": [],
   "source": [
    "%matplotlib inline\n",
    "import matplotlib.pyplot as plt\n",
    "import seaborn as sns\n",
    "import numpy as np\n",
    "import pandas as pd\n",
    "import io\n",
    "import os"
   ]
  },
  {
   "cell_type": "markdown",
   "metadata": {},
   "source": [
    "# El mecanismo Basal\n",
    "Para hombres:\n",
    "TMB = (10 x peso en kg) + (6,25 × altura en cm) – (5 × edad en años) + 5\n",
    "\n",
    "Para mujeres:\n",
    "TMB = (10 x peso en kg) + (6,25 × altura en cm) – (5 × edad en años) – 161"
   ]
  },
  {
   "cell_type": "code",
   "execution_count": 2,
   "metadata": {},
   "outputs": [],
   "source": [
    "def calculo_tmb():\n",
    "    peso = input('Ingrese su peso en Kg')\n",
    "    altura = input('Ingrese su altura en cm')\n",
    "    edad = input('Ingrese su edad en años')\n",
    "    sexo= input('H o M')\n",
    "    if sexo == 'H':\n",
    "        TMB = 10 * int(peso) + 6.25 * int(altura) - 5 * int(edad) + 5\n",
    "    elif sexo == 'M':\n",
    "        TMB = 10 * int(peso) + 6.25 * int(altura) - 5 * int(edad) - 161\n",
    "    else:\n",
    "        print('error')\n",
    "    return TMB"
   ]
  },
  {
   "cell_type": "code",
   "execution_count": 3,
   "metadata": {},
   "outputs": [
    {
     "name": "stdin",
     "output_type": "stream",
     "text": [
      "Ingrese su peso en Kg 70\n",
      "Ingrese su altura en cm 176\n",
      "Ingrese su edad en años 36\n",
      "H o M H\n"
     ]
    },
    {
     "data": {
      "text/plain": [
       "1625.0"
      ]
     },
     "execution_count": 3,
     "metadata": {},
     "output_type": "execute_result"
    }
   ],
   "source": [
    "calculo_tmb()"
   ]
  },
  {
   "cell_type": "code",
   "execution_count": 3,
   "metadata": {},
   "outputs": [],
   "source": [
    "def calculo_calorias(tmb):\n",
    "    actividad_fisica = input ('Cuanta actividad fisica realizas: 1-Sedentario, 2-actividad ligera, 3-actividad moderada, 4-actividad intensa, 5-actividad muy intensa')\n",
    "    global calorias_diarias\n",
    "    if actividad_fisica == '1':\n",
    "        calorias_diarias = tmb * 1.2\n",
    "    elif actividad_fisica == '2':\n",
    "        calorias_diarias = tmb * 1.375\n",
    "    elif actividad_fisica == '3':\n",
    "        calorias_diarias = tmb * 1.55\n",
    "    elif actividad_fisica == '4':\n",
    "        calorias_diarias = tmb * 1.725\n",
    "    elif actividad_fisica == '5':\n",
    "        calorias_diarias = tmb * 1.9\n",
    "    else:\n",
    "        print('error')\n",
    "    return calorias_diarias      \n",
    "    \n",
    "    "
   ]
  },
  {
   "cell_type": "code",
   "execution_count": 5,
   "metadata": {},
   "outputs": [
    {
     "name": "stdin",
     "output_type": "stream",
     "text": [
      "Ingrese su peso en Kg 70\n",
      "Ingrese su altura en cm 176\n",
      "Ingrese su edad en años 36\n",
      "H o M H\n",
      "Cuanta actividad fisica realizas: 1-Sedentario, 2-actividad ligera, 3-actividad moderada, 4-actividad intensa, 5-actividad muy intensa 3\n"
     ]
    },
    {
     "data": {
      "text/plain": [
       "2518.75"
      ]
     },
     "execution_count": 5,
     "metadata": {},
     "output_type": "execute_result"
    }
   ],
   "source": [
    "calculo_calorias(calculo_tmb())"
   ]
  },
  {
   "cell_type": "code",
   "execution_count": 6,
   "metadata": {},
   "outputs": [
    {
     "name": "stdout",
     "output_type": "stream",
     "text": [
      "881.5625 629.6875\n"
     ]
    }
   ],
   "source": [
    "calorias_comida = 0.35 * calorias_diarias\n",
    "calorias_cena = 0.25 * calorias_diarias\n",
    "print(calorias_comida, calorias_cena)"
   ]
  },
  {
   "cell_type": "code",
   "execution_count": 4,
   "metadata": {},
   "outputs": [],
   "source": [
    "data_root = \"/home/dsc/TFM/repositorio/\""
   ]
  },
  {
   "cell_type": "code",
   "execution_count": 5,
   "metadata": {},
   "outputs": [
    {
     "data": {
      "text/html": [
       "<div>\n",
       "<style scoped>\n",
       "    .dataframe tbody tr th:only-of-type {\n",
       "        vertical-align: middle;\n",
       "    }\n",
       "\n",
       "    .dataframe tbody tr th {\n",
       "        vertical-align: top;\n",
       "    }\n",
       "\n",
       "    .dataframe thead th {\n",
       "        text-align: right;\n",
       "    }\n",
       "</style>\n",
       "<table border=\"1\" class=\"dataframe\">\n",
       "  <thead>\n",
       "    <tr style=\"text-align: right;\">\n",
       "      <th></th>\n",
       "      <th>Nombre</th>\n",
       "      <th>caloria porcion</th>\n",
       "      <th>categoria</th>\n",
       "    </tr>\n",
       "    <tr>\n",
       "      <th>id_items</th>\n",
       "      <th></th>\n",
       "      <th></th>\n",
       "      <th></th>\n",
       "    </tr>\n",
       "  </thead>\n",
       "  <tbody>\n",
       "    <tr>\n",
       "      <th>4</th>\n",
       "      <td>Ensalada de col con queso</td>\n",
       "      <td>150</td>\n",
       "      <td>Verduras</td>\n",
       "    </tr>\n",
       "    <tr>\n",
       "      <th>5</th>\n",
       "      <td>Ensalada de tomate y pimiento asado</td>\n",
       "      <td>205</td>\n",
       "      <td>Verduras</td>\n",
       "    </tr>\n",
       "    <tr>\n",
       "      <th>12</th>\n",
       "      <td>Ensalada de Lechuga Romana</td>\n",
       "      <td>67</td>\n",
       "      <td>Verduras</td>\n",
       "    </tr>\n",
       "    <tr>\n",
       "      <th>25</th>\n",
       "      <td>Ensalada con tomates cherry</td>\n",
       "      <td>180</td>\n",
       "      <td>Verduras</td>\n",
       "    </tr>\n",
       "    <tr>\n",
       "      <th>27</th>\n",
       "      <td>Ensalada de brócoli con frutos secos</td>\n",
       "      <td>290</td>\n",
       "      <td>Verduras</td>\n",
       "    </tr>\n",
       "    <tr>\n",
       "      <th>34</th>\n",
       "      <td>Ensalada de lechuga con pollo y queso</td>\n",
       "      <td>460</td>\n",
       "      <td>Combinados</td>\n",
       "    </tr>\n",
       "    <tr>\n",
       "      <th>47</th>\n",
       "      <td>Ensalada de berros con tomate</td>\n",
       "      <td>70</td>\n",
       "      <td>Verduras</td>\n",
       "    </tr>\n",
       "    <tr>\n",
       "      <th>51</th>\n",
       "      <td>Ensalada de arroz con judias verdes</td>\n",
       "      <td>140</td>\n",
       "      <td>carbohidratos</td>\n",
       "    </tr>\n",
       "    <tr>\n",
       "      <th>80</th>\n",
       "      <td>Ensalada de manzana verde con apio</td>\n",
       "      <td>100</td>\n",
       "      <td>Verduras</td>\n",
       "    </tr>\n",
       "    <tr>\n",
       "      <th>92</th>\n",
       "      <td>Ensalada césar con pollo empanado</td>\n",
       "      <td>720</td>\n",
       "      <td>Combinados</td>\n",
       "    </tr>\n",
       "  </tbody>\n",
       "</table>\n",
       "</div>"
      ],
      "text/plain": [
       "                                         Nombre  caloria porcion  \\\n",
       "id_items                                                           \n",
       "4                     Ensalada de col con queso              150   \n",
       "5           Ensalada de tomate y pimiento asado              205   \n",
       "12                   Ensalada de Lechuga Romana               67   \n",
       "25                  Ensalada con tomates cherry              180   \n",
       "27         Ensalada de brócoli con frutos secos              290   \n",
       "34        Ensalada de lechuga con pollo y queso              460   \n",
       "47                Ensalada de berros con tomate               70   \n",
       "51          Ensalada de arroz con judias verdes              140   \n",
       "80           Ensalada de manzana verde con apio              100   \n",
       "92            Ensalada césar con pollo empanado              720   \n",
       "\n",
       "              categoria  \n",
       "id_items                 \n",
       "4              Verduras  \n",
       "5              Verduras  \n",
       "12             Verduras  \n",
       "25             Verduras  \n",
       "27             Verduras  \n",
       "34           Combinados  \n",
       "47             Verduras  \n",
       "51        carbohidratos  \n",
       "80             Verduras  \n",
       "92           Combinados  "
      ]
     },
     "execution_count": 5,
     "metadata": {},
     "output_type": "execute_result"
    }
   ],
   "source": [
    "columns = ['id_items', 'Nombre', 'caloria porcion','categoria']\n",
    "datafile = os.path.join(data_root, \"calorias_comida.csv\")\n",
    "data = pd.read_csv(datafile, sep=';', header =0, names=columns, encoding='latin-1', index_col = 0)\n",
    "data.head(10)"
   ]
  },
  {
   "cell_type": "code",
   "execution_count": 6,
   "metadata": {},
   "outputs": [
    {
     "data": {
      "text/plain": [
       "<seaborn.axisgrid.FacetGrid at 0x7fb9042e1470>"
      ]
     },
     "execution_count": 6,
     "metadata": {},
     "output_type": "execute_result"
    },
    {
     "data": {
      "image/png": "[encoded data removed]",
      "text/plain": [
       "<Figure size 360x360 with 1 Axes>"
      ]
     },
     "metadata": {
      "needs_background": "light"
     },
     "output_type": "display_data"
    }
   ],
   "source": [
    "sns.catplot(x='categoria', data=data, kind='count')"
   ]
  },
  {
   "cell_type": "code",
   "execution_count": 7,
   "metadata": {},
   "outputs": [
    {
     "data": {
      "image/png": "[encoded data removed]",
      "text/plain": [
       "<Figure size 432x288 with 1 Axes>"
      ]
     },
     "metadata": {
      "needs_background": "light"
     },
     "output_type": "display_data"
    }
   ],
   "source": [
    "ax = sns.boxplot(x='categoria', y='caloria porcion', data=data)"
   ]
  },
  {
   "cell_type": "code",
   "execution_count": 8,
   "metadata": {},
   "outputs": [
    {
     "data": {
      "text/html": [
       "<div>\n",
       "<style scoped>\n",
       "    .dataframe tbody tr th:only-of-type {\n",
       "        vertical-align: middle;\n",
       "    }\n",
       "\n",
       "    .dataframe tbody tr th {\n",
       "        vertical-align: top;\n",
       "    }\n",
       "\n",
       "    .dataframe thead th {\n",
       "        text-align: right;\n",
       "    }\n",
       "</style>\n",
       "<table border=\"1\" class=\"dataframe\">\n",
       "  <thead>\n",
       "    <tr style=\"text-align: right;\">\n",
       "      <th></th>\n",
       "      <th>Nombre</th>\n",
       "      <th>caloria porcion</th>\n",
       "      <th>categoria</th>\n",
       "    </tr>\n",
       "    <tr>\n",
       "      <th>id_items</th>\n",
       "      <th></th>\n",
       "      <th></th>\n",
       "      <th></th>\n",
       "    </tr>\n",
       "  </thead>\n",
       "  <tbody>\n",
       "    <tr>\n",
       "      <th>696</th>\n",
       "      <td>Potaje de lentejas</td>\n",
       "      <td>980</td>\n",
       "      <td>carbohidratos</td>\n",
       "    </tr>\n",
       "    <tr>\n",
       "      <th>941</th>\n",
       "      <td>Quinoa con queso</td>\n",
       "      <td>525</td>\n",
       "      <td>carbohidratos</td>\n",
       "    </tr>\n",
       "    <tr>\n",
       "      <th>1752</th>\n",
       "      <td>Raviolis con salsa de nueces</td>\n",
       "      <td>649</td>\n",
       "      <td>carbohidratos</td>\n",
       "    </tr>\n",
       "    <tr>\n",
       "      <th>1803</th>\n",
       "      <td>Espaguetis con salchichas y tomate</td>\n",
       "      <td>554</td>\n",
       "      <td>carbohidratos</td>\n",
       "    </tr>\n",
       "    <tr>\n",
       "      <th>1844</th>\n",
       "      <td>Ñoquis a la romana</td>\n",
       "      <td>650</td>\n",
       "      <td>carbohidratos</td>\n",
       "    </tr>\n",
       "    <tr>\n",
       "      <th>2016</th>\n",
       "      <td>Bolitas de arroz rellenas de queso</td>\n",
       "      <td>655</td>\n",
       "      <td>carbohidratos</td>\n",
       "    </tr>\n",
       "  </tbody>\n",
       "</table>\n",
       "</div>"
      ],
      "text/plain": [
       "                                      Nombre  caloria porcion      categoria\n",
       "id_items                                                                    \n",
       "696                       Potaje de lentejas              980  carbohidratos\n",
       "941                         Quinoa con queso              525  carbohidratos\n",
       "1752            Raviolis con salsa de nueces              649  carbohidratos\n",
       "1803      Espaguetis con salchichas y tomate              554  carbohidratos\n",
       "1844                      Ñoquis a la romana              650  carbohidratos\n",
       "2016      Bolitas de arroz rellenas de queso              655  carbohidratos"
      ]
     },
     "execution_count": 8,
     "metadata": {},
     "output_type": "execute_result"
    }
   ],
   "source": [
    "data[(data['caloria porcion']>500)& (data['categoria']=='carbohidratos')]"
   ]
  },
  {
   "cell_type": "code",
   "execution_count": 9,
   "metadata": {},
   "outputs": [
    {
     "data": {
      "text/html": [
       "<div>\n",
       "<style scoped>\n",
       "    .dataframe tbody tr th:only-of-type {\n",
       "        vertical-align: middle;\n",
       "    }\n",
       "\n",
       "    .dataframe tbody tr th {\n",
       "        vertical-align: top;\n",
       "    }\n",
       "\n",
       "    .dataframe thead th {\n",
       "        text-align: right;\n",
       "    }\n",
       "</style>\n",
       "<table border=\"1\" class=\"dataframe\">\n",
       "  <thead>\n",
       "    <tr style=\"text-align: right;\">\n",
       "      <th></th>\n",
       "      <th>Nombre</th>\n",
       "      <th>caloria porcion</th>\n",
       "      <th>categoria</th>\n",
       "    </tr>\n",
       "    <tr>\n",
       "      <th>id_items</th>\n",
       "      <th></th>\n",
       "      <th></th>\n",
       "      <th></th>\n",
       "    </tr>\n",
       "  </thead>\n",
       "  <tbody>\n",
       "    <tr>\n",
       "      <th>1749</th>\n",
       "      <td>Pizza Napolitana tradicional</td>\n",
       "      <td>956</td>\n",
       "      <td>Combinados</td>\n",
       "    </tr>\n",
       "  </tbody>\n",
       "</table>\n",
       "</div>"
      ],
      "text/plain": [
       "                                Nombre  caloria porcion   categoria\n",
       "id_items                                                           \n",
       "1749      Pizza Napolitana tradicional              956  Combinados"
      ]
     },
     "execution_count": 9,
     "metadata": {},
     "output_type": "execute_result"
    }
   ],
   "source": [
    "data[(data['caloria porcion']>800)& (data['categoria']=='Combinados')]"
   ]
  },
  {
   "cell_type": "code",
   "execution_count": null,
   "metadata": {},
   "outputs": [],
   "source": []
  },
  {
   "cell_type": "code",
   "execution_count": 9,
   "metadata": {},
   "outputs": [],
   "source": [
    "use_x = [998, 34, 167, 203, 608, 2450, 633, 133, 663, 384, 688, 1722, 958, 959, 12, 25, 27, 326, 350, 486, 518, 530, 596, 47, 80, 101, 144, 165, 5, 404, 1917, 1907, 1826, 1811, 663]"
   ]
  },
  {
   "cell_type": "code",
   "execution_count": 10,
   "metadata": {},
   "outputs": [],
   "source": [
    "def plan_semanal(dias_menu):\n",
    "# El plan semana constara de una comida por la mañana compuesta por un plato de 2 porciones de verduras, \n",
    "# 1 porcion de proteinas y 1 porción de carbohidratos\n",
    "# y como cena un plato combinado         \n",
    "    \n",
    "    menu_semanal = []\n",
    "    comidas_utilizadas = []\n",
    "    for dia in range(dias_menu):\n",
    "        comida_1 = []\n",
    "        mix_comida_1 = []        \n",
    "        calorias_1 = 0\n",
    "        cena = []\n",
    "        for z in use_x:\n",
    "            if calorias_1 < calorias_comida:\n",
    "                if 'verduras' in mix_comida_1 and 'proteinas' in mix_comida_1 and 'carbohidratos' in mix_comida_1:\n",
    "                    menu_semanal.append(comida_1)\n",
    "                    break\n",
    "\n",
    "                if (data['categoria'][z]=='Verduras'):\n",
    "                    if 'verduras' in mix_comida_1 or data['Nombre'][z] in comidas_utilizadas:\n",
    "                        pass\n",
    "                    else:\n",
    "                        if calorias_1 + data['caloria porcion'][z] < calorias_comida:\n",
    "                            comida_1.append(data['Nombre'][z])\n",
    "                            mix_comida_1.append('verduras')\n",
    "                            calorias_1 += (2*data['caloria porcion'][z])\n",
    "                            comidas_utilizadas.append(data['Nombre'][z])\n",
    "\n",
    "                if (data['categoria'][z]=='proteina'):\n",
    "                    if 'proteinas' in mix_comida_1 or data['Nombre'][z] in comidas_utilizadas:\n",
    "                        pass\n",
    "                    else:\n",
    "                        if calorias_1+ data['caloria porcion'][z] < calorias_comida:\n",
    "                            comida_1.append(data['Nombre'][z])\n",
    "                            mix_comida_1.append('proteinas')\n",
    "                            calorias_1 += data['caloria porcion'][z]\n",
    "                            comidas_utilizadas.append(data['Nombre'][z])\n",
    "                if (data['categoria'][z]=='carbohidratos'):\n",
    "                    if 'carbohidratos' in mix_comida_1 or data['Nombre'][z] in comidas_utilizadas:\n",
    "                        pass\n",
    "                    else:     \n",
    "                        if calorias_1+ data['caloria porcion'][z] < calorias_comida:\n",
    "                            comida_1.append(data['Nombre'][z])\n",
    "                            mix_comida_1.append('carbohidratos')\n",
    "                            calorias_1 += data['caloria porcion'][z]\n",
    "                            comidas_utilizadas.append(data['Nombre'][z])\n",
    "            else:\n",
    "                menu_semanal.append(comida_1)\n",
    "            \n",
    "        for y in use_x:\n",
    "            if len(cena)== 0:\n",
    "                if (data['categoria'][y]=='Combinados'):\n",
    "                    if calorias_cena * 1.2 > data['caloria porcion'][y] > calorias_cena * 0.8:\n",
    "                        cena.append(data['Nombre'][y])\n",
    "                        menu_semanal.append(cena)\n",
    "                        comidas_utilizadas.append(data['Nombre'][y])\n",
    "            \n",
    "    return menu_semanal"
   ]
  },
  {
   "cell_type": "code",
   "execution_count": null,
   "metadata": {},
   "outputs": [],
   "source": []
  },
  {
   "cell_type": "code",
   "execution_count": 11,
   "metadata": {},
   "outputs": [
    {
     "data": {
      "text/plain": [
       "[['Alubias con Verduras',\n",
       "  'Ensalada de Lechuga Romana',\n",
       "  'Secreto Ibérico al Horno con Puré'],\n",
       " ['Estofado de ternera al vino tinto'],\n",
       " ['Fusilli al Vino',\n",
       "  'Ensalada con tomates cherry',\n",
       "  'Estofado de cerdo con manzanas'],\n",
       " ['Estofado de ternera al vino tinto'],\n",
       " ['Estofado de ternera al vino tinto'],\n",
       " ['Rissoto de Quinoa',\n",
       "  'Alambre de res con champiñones',\n",
       "  'Ensalada de berros con tomate'],\n",
       " ['Estofado de ternera al vino tinto'],\n",
       " ['Estofado de ternera al vino tinto']]"
      ]
     },
     "execution_count": 11,
     "metadata": {},
     "output_type": "execute_result"
    }
   ],
   "source": [
    "plan_semanal(5)"
   ]
  },
  {
   "cell_type": "code",
   "execution_count": null,
   "metadata": {},
   "outputs": [],
   "source": []
  }
 ],
 "metadata": {
  "kernelspec": {
   "display_name": "Python 3",
   "language": "python",
   "name": "python3"
  },
  "language_info": {
   "codemirror_mode": {
    "name": "ipython",
    "version": 3
   },
   "file_extension": ".py",
   "mimetype": "text/x-python",
   "name": "python",
   "nbconvert_exporter": "python",
   "pygments_lexer": "ipython3",
   "version": "3.7.1"
  }
 },
 "nbformat": 4,
 "nbformat_minor": 2
}
